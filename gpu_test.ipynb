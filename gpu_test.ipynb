{
 "cells": [
  {
   "cell_type": "code",
   "execution_count": 2,
   "id": "2cbec479",
   "metadata": {},
   "outputs": [
    {
     "name": "stdout",
     "output_type": "stream",
     "text": [
      "=== GPU Test ===\n",
      "PyTorch version: 2.4.1+cu121\n",
      "CUDA available: True\n",
      "CUDA version: 12.1\n",
      "cuDNN version: 90100\n",
      "GPU count: 1\n",
      "Current device: 0\n",
      "GPU name: NVIDIA GeForce GTX 1060\n",
      "GPU memory: 5.9 GB\n",
      "\n",
      "=== Testing GPU Operations ===\n",
      "GPU tensor operation successful!\n",
      "Matrix multiplication time: 0.0001s\n",
      "Result shape: torch.Size([1000, 1000])\n",
      "Result device: cuda:0\n"
     ]
    }
   ],
   "source": [
    "import torch\n",
    "import torch.nn as nn\n",
    "\n",
    "print(\"=== GPU Test ===\")\n",
    "print(f\"PyTorch version: {torch.__version__}\")\n",
    "print(f\"CUDA available: {torch.cuda.is_available()}\")\n",
    "print(f\"CUDA version: {torch.version.cuda}\")\n",
    "print(f\"cuDNN version: {torch.backends.cudnn.version()}\")\n",
    "\n",
    "if torch.cuda.is_available():\n",
    "    print(f\"GPU count: {torch.cuda.device_count()}\")\n",
    "    print(f\"Current device: {torch.cuda.current_device()}\")\n",
    "    print(f\"GPU name: {torch.cuda.get_device_name(0)}\")\n",
    "    print(f\"GPU memory: {torch.cuda.get_device_properties(0).total_memory / 1024**3:.1f} GB\")\n",
    "    \n",
    "    # Test tensor operations on GPU\n",
    "    print(\"\\n=== Testing GPU Operations ===\")\n",
    "    x = torch.randn(1000, 1000).cuda()\n",
    "    y = torch.randn(1000, 1000).cuda()\n",
    "    \n",
    "    import time\n",
    "    start = time.time()\n",
    "    z = torch.mm(x, y)\n",
    "    end = time.time()\n",
    "    \n",
    "    print(f\"GPU tensor operation successful!\")\n",
    "    print(f\"Matrix multiplication time: {end-start:.4f}s\")\n",
    "    print(f\"Result shape: {z.shape}\")\n",
    "    print(f\"Result device: {z.device}\")\n",
    "    \n",
    "else:\n",
    "    print(\"CUDA not available. Check PyTorch installation.\")"
   ]
  }
 ],
 "metadata": {
  "kernelspec": {
   "display_name": "mario_env",
   "language": "python",
   "name": "python3"
  },
  "language_info": {
   "codemirror_mode": {
    "name": "ipython",
    "version": 3
   },
   "file_extension": ".py",
   "mimetype": "text/x-python",
   "name": "python",
   "nbconvert_exporter": "python",
   "pygments_lexer": "ipython3",
   "version": "3.8.20"
  }
 },
 "nbformat": 4,
 "nbformat_minor": 5
}
