{
 "cells": [
  {
   "cell_type": "markdown",
   "id": "432e666c",
   "metadata": {},
   "source": [
    "# Load and test a pre-trained model"
   ]
  },
  {
   "cell_type": "code",
   "execution_count": null,
   "id": "c75b7744",
   "metadata": {},
   "outputs": [],
   "source": [
    "# import dependencies\n",
    "import gym \n",
    "from stable_baselines3 import PPO\n",
    "from stable_baselines3.common.vec_env import DummyVecEnv, VecEnv\n",
    "from stable_baselines3.common.evaluation import evaluate_policy\n",
    "\n",
    "import os\n",
    "\n",
    "from gym_utils import SMBRamWrapper, load_smb_env, SMB"
   ]
  },
  {
   "cell_type": "code",
   "execution_count": null,
   "id": "4db9f9e8",
   "metadata": {},
   "outputs": [],
   "source": [
    "# Select a pre-trained model\n",
    "MODEL_DIR = './models/NEW_MODEL_DIR/'\n",
    "\n",
    "# obs = 4 frames\n",
    "crop_dim = [0, 16, 0, 13]\n",
    "n_stack = 4\n",
    "n_skip = 4\n",
    "MODEL_NAME = 'SAVED_MODEL_NAME'\n",
    "\n",
    "# obs = 1 frames\n",
    "#crop_dim = [0, 16, 0, 13]\n",
    "#n_stack = 1\n",
    "#n_skip = 1\n",
    "#MODEL_NAME = 'pre-trained-2'\n",
    "\n",
    "\n",
    "# obs = 2 frames\n",
    "#crop_dim = [0, 16, 0, 13]\n",
    "#n_stack = 2\n",
    "#n_skip = 4\n",
    "#MODEL_NAME = 'pre-trained-3'"
   ]
  },
  {
   "cell_type": "code",
   "execution_count": null,
   "id": "c104ec12",
   "metadata": {},
   "outputs": [],
   "source": [
    "world = 2\n",
    "level = 2"
   ]
  },
  {
   "cell_type": "code",
   "execution_count": null,
   "id": "3efda0ca",
   "metadata": {},
   "outputs": [],
   "source": [
    "# load env and model\n",
    "env_wrap = load_smb_env('SuperMarioBros-{}-{}-v0'.format(world, level), crop_dim, n_stack, n_skip)\n",
    "model = PPO.load(os.path.join(MODEL_DIR, MODEL_NAME), env=env_wrap)\n",
    "smb = SMB(env_wrap, model)"
   ]
  },
  {
   "cell_type": "code",
   "execution_count": null,
   "id": "52270ed2",
   "metadata": {},
   "outputs": [],
   "source": [
    "smb.play(episodes=10, deterministic=True, render=True, return_eval=True)"
   ]
  }
 ],
 "metadata": {
  "kernelspec": {
   "display_name": "mario_env",
   "language": "python",
   "name": "python3"
  },
  "language_info": {
   "codemirror_mode": {
    "name": "ipython",
    "version": 3
   },
   "file_extension": ".py",
   "mimetype": "text/x-python",
   "name": "python",
   "nbconvert_exporter": "python",
   "pygments_lexer": "ipython3",
   "version": "3.8.20"
  }
 },
 "nbformat": 4,
 "nbformat_minor": 5
}
